{
 "cells": [
  {
   "cell_type": "code",
   "execution_count": 4,
   "metadata": {},
   "outputs": [],
   "source": [
    "import xml.etree.ElementTree as ET\n",
    "import numpy as np\n",
    "import pandas as pd\n",
    "\n",
    "from glob import glob\n"
   ]
  },
  {
   "cell_type": "code",
   "execution_count": 5,
   "metadata": {},
   "outputs": [],
   "source": [
    "data = []\n",
    "for path in glob(\"./Annotations/*.xml\"):\n",
    "    parse = ET.parse(path)\n",
    "    objects = [[i.tag,i.text] for i in parse.iter()]\n",
    "    image = {i:j for i ,j in objects[:11]}\n",
    "    boxes = []\n",
    "    for ob,name,pose,_,__,___,xmin,ymin,xmax,ymax in np.array(objects[11:]).reshape(-1,20)[:,1::2]:\n",
    "        boxes.append(dict(\n",
    "            name=name,\n",
    "            xmin=int(xmin),\n",
    "            ymin=int(ymin),\n",
    "            xmax=int(xmax),\n",
    "            ymax=int(ymax),\n",
    "        ))    \n",
    "    image['boxes'] = boxes\n",
    "    image['filename'] = f\"./JPEGImages/{image['filename']}\"\n",
    "    [image.pop(i) for i in ['annotation','path','folder','source','size','database','segmented','depth']];\n",
    "    data.append(image)\n",
    "    \n",
    "    \n",
    "rows = []\n",
    "\n",
    "for row in data.copy():\n",
    "    for box in row['boxes']:\n",
    "        box['filename'] = row['filename']\n",
    "        box['width'] = row['width']\n",
    "        box['height'] = row['height']\n",
    "        box['class'] = box.pop('name')\n",
    "        rows.append(box)\n",
    "        \n",
    "train = pd.DataFrame(rows)[['filename','width','height','class','xmin','ymin','xmax','ymax']]\n",
    "train.to_csv(\"./data.csv\",index=False)"
   ]
  }
 ],
 "metadata": {
  "kernelspec": {
   "display_name": "Python 3",
   "language": "python",
   "name": "python3"
  },
  "language_info": {
   "codemirror_mode": {
    "name": "ipython",
    "version": 3
   },
   "file_extension": ".py",
   "mimetype": "text/x-python",
   "name": "python",
   "nbconvert_exporter": "python",
   "pygments_lexer": "ipython3",
   "version": "3.6.9"
  }
 },
 "nbformat": 4,
 "nbformat_minor": 4
}
