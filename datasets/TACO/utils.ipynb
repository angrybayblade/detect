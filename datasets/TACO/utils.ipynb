{
 "cells": [
  {
   "cell_type": "markdown",
   "metadata": {},
   "source": [
    "### Download Images"
   ]
  },
  {
   "cell_type": "code",
   "execution_count": 1,
   "metadata": {},
   "outputs": [],
   "source": [
    "import pandas as pd\n",
    "\n",
    "from json import loads\n",
    "from requests import get\n",
    "from tqdm.cli import tqdm"
   ]
  },
  {
   "cell_type": "code",
   "execution_count": 2,
   "metadata": {},
   "outputs": [],
   "source": [
    "data = loads(open(\"./annotations.json\",\"r\").read())"
   ]
  },
  {
   "cell_type": "code",
   "execution_count": 3,
   "metadata": {},
   "outputs": [
    {
     "data": {
      "text/plain": [
       "dict_keys(['info', 'images', 'annotations', 'scene_annotations', 'licenses', 'categories', 'scene_categories'])"
      ]
     },
     "execution_count": 3,
     "metadata": {},
     "output_type": "execute_result"
    }
   ],
   "source": [
    "data.keys()"
   ]
  },
  {
   "cell_type": "code",
   "execution_count": 4,
   "metadata": {},
   "outputs": [
    {
     "name": "stdout",
     "output_type": "stream",
     "text": [
      "NOT_info\n",
      "ARE_images\n",
      "ARE_annotations\n",
      "ARE_scene_annotations\n",
      "ARE_licenses\n",
      "ARE_categories\n",
      "ARE_scene_categories\n"
     ]
    }
   ],
   "source": [
    "for i in data.keys():\n",
    "    try:\n",
    "        globals()[i] = pd.DataFrame(data[i])\n",
    "        print (f\"ARE_{i}\")\n",
    "    except:\n",
    "        print (f\"NOT_{i}\")"
   ]
  },
  {
   "cell_type": "code",
   "execution_count": 7,
   "metadata": {},
   "outputs": [],
   "source": [
    "# for ID,URL in tqdm(images[['id','flickr_url']].values):\n",
    "#     EXT = URL.split(\".\")[-1]\n",
    "#     with open(f\"./images/{ID}.{EXT}\",\"wb\") as file:\n",
    "#         r = get(URL)\n",
    "#         file.write(r.content)"
   ]
  },
  {
   "cell_type": "code",
   "execution_count": 8,
   "metadata": {},
   "outputs": [],
   "source": [
    "from glob import glob"
   ]
  },
  {
   "cell_type": "code",
   "execution_count": 9,
   "metadata": {},
   "outputs": [
    {
     "data": {
      "text/plain": [
       "1500"
      ]
     },
     "execution_count": 9,
     "metadata": {},
     "output_type": "execute_result"
    }
   ],
   "source": [
    "len(glob(\"./images/*\"))"
   ]
  },
  {
   "cell_type": "code",
   "execution_count": 17,
   "metadata": {},
   "outputs": [],
   "source": [
    "keys = ['xmin','ymin','w','h']"
   ]
  },
  {
   "cell_type": "code",
   "execution_count": 19,
   "metadata": {},
   "outputs": [],
   "source": [
    "annotations['bbox'] = annotations.bbox.apply(lambda x:{i:j for i,j in zip(keys,x)})"
   ]
  },
  {
   "cell_type": "code",
   "execution_count": 22,
   "metadata": {},
   "outputs": [],
   "source": [
    "annotations_ = annotations[['image_id','category_id','bbox']]"
   ]
  },
  {
   "cell_type": "code",
   "execution_count": 33,
   "metadata": {},
   "outputs": [],
   "source": [
    "annotations_ = pd.concat([annotations_,pd.DataFrame(list(annotations_.bbox.values.reshape(-1)))],axis=1)"
   ]
  },
  {
   "cell_type": "code",
   "execution_count": 36,
   "metadata": {},
   "outputs": [],
   "source": [
    "# del annotations_['bbox']"
   ]
  },
  {
   "cell_type": "code",
   "execution_count": 38,
   "metadata": {},
   "outputs": [
    {
     "data": {
      "text/html": [
       "<div>\n",
       "<style scoped>\n",
       "    .dataframe tbody tr th:only-of-type {\n",
       "        vertical-align: middle;\n",
       "    }\n",
       "\n",
       "    .dataframe tbody tr th {\n",
       "        vertical-align: top;\n",
       "    }\n",
       "\n",
       "    .dataframe thead th {\n",
       "        text-align: right;\n",
       "    }\n",
       "</style>\n",
       "<table border=\"1\" class=\"dataframe\">\n",
       "  <thead>\n",
       "    <tr style=\"text-align: right;\">\n",
       "      <th></th>\n",
       "      <th>id</th>\n",
       "      <th>width</th>\n",
       "      <th>height</th>\n",
       "      <th>file_name</th>\n",
       "      <th>license</th>\n",
       "      <th>flickr_url</th>\n",
       "      <th>coco_url</th>\n",
       "      <th>date_captured</th>\n",
       "      <th>flickr_640_url</th>\n",
       "    </tr>\n",
       "  </thead>\n",
       "  <tbody>\n",
       "    <tr>\n",
       "      <th>0</th>\n",
       "      <td>0</td>\n",
       "      <td>1537</td>\n",
       "      <td>2049</td>\n",
       "      <td>batch_1/000006.jpg</td>\n",
       "      <td>None</td>\n",
       "      <td>https://farm66.staticflickr.com/65535/33978196...</td>\n",
       "      <td>None</td>\n",
       "      <td>None</td>\n",
       "      <td>https://farm66.staticflickr.com/65535/33978196...</td>\n",
       "    </tr>\n",
       "    <tr>\n",
       "      <th>1</th>\n",
       "      <td>1</td>\n",
       "      <td>1537</td>\n",
       "      <td>2049</td>\n",
       "      <td>batch_1/000008.jpg</td>\n",
       "      <td>None</td>\n",
       "      <td>https://farm66.staticflickr.com/65535/47803331...</td>\n",
       "      <td>None</td>\n",
       "      <td>None</td>\n",
       "      <td>https://farm66.staticflickr.com/65535/47803331...</td>\n",
       "    </tr>\n",
       "    <tr>\n",
       "      <th>2</th>\n",
       "      <td>2</td>\n",
       "      <td>1537</td>\n",
       "      <td>2049</td>\n",
       "      <td>batch_1/000010.jpg</td>\n",
       "      <td>None</td>\n",
       "      <td>https://farm66.staticflickr.com/65535/40888872...</td>\n",
       "      <td>None</td>\n",
       "      <td>None</td>\n",
       "      <td>https://farm66.staticflickr.com/65535/40888872...</td>\n",
       "    </tr>\n",
       "    <tr>\n",
       "      <th>3</th>\n",
       "      <td>3</td>\n",
       "      <td>2049</td>\n",
       "      <td>1537</td>\n",
       "      <td>batch_1/000019.jpg</td>\n",
       "      <td>None</td>\n",
       "      <td>https://farm66.staticflickr.com/65535/47803331...</td>\n",
       "      <td>None</td>\n",
       "      <td>None</td>\n",
       "      <td>https://farm66.staticflickr.com/65535/47803331...</td>\n",
       "    </tr>\n",
       "    <tr>\n",
       "      <th>4</th>\n",
       "      <td>4</td>\n",
       "      <td>1537</td>\n",
       "      <td>2049</td>\n",
       "      <td>batch_1/000026.jpg</td>\n",
       "      <td>None</td>\n",
       "      <td>https://farm66.staticflickr.com/65535/33978199...</td>\n",
       "      <td>None</td>\n",
       "      <td>None</td>\n",
       "      <td>https://farm66.staticflickr.com/65535/33978199...</td>\n",
       "    </tr>\n",
       "    <tr>\n",
       "      <th>...</th>\n",
       "      <td>...</td>\n",
       "      <td>...</td>\n",
       "      <td>...</td>\n",
       "      <td>...</td>\n",
       "      <td>...</td>\n",
       "      <td>...</td>\n",
       "      <td>...</td>\n",
       "      <td>...</td>\n",
       "      <td>...</td>\n",
       "    </tr>\n",
       "    <tr>\n",
       "      <th>1495</th>\n",
       "      <td>1495</td>\n",
       "      <td>1824</td>\n",
       "      <td>4000</td>\n",
       "      <td>batch_9/000095.jpg</td>\n",
       "      <td>CC</td>\n",
       "      <td>https://farm66.staticflickr.com/65535/48701319...</td>\n",
       "      <td>None</td>\n",
       "      <td>None</td>\n",
       "      <td>https://farm66.staticflickr.com/65535/48701319...</td>\n",
       "    </tr>\n",
       "    <tr>\n",
       "      <th>1496</th>\n",
       "      <td>1496</td>\n",
       "      <td>1824</td>\n",
       "      <td>4000</td>\n",
       "      <td>batch_9/000096.jpg</td>\n",
       "      <td>CC</td>\n",
       "      <td>https://farm66.staticflickr.com/65535/48701319...</td>\n",
       "      <td>None</td>\n",
       "      <td>None</td>\n",
       "      <td>https://farm66.staticflickr.com/65535/48701319...</td>\n",
       "    </tr>\n",
       "    <tr>\n",
       "      <th>1497</th>\n",
       "      <td>1497</td>\n",
       "      <td>4000</td>\n",
       "      <td>1824</td>\n",
       "      <td>batch_9/000097.jpg</td>\n",
       "      <td>CC</td>\n",
       "      <td>https://farm66.staticflickr.com/65535/48694319...</td>\n",
       "      <td>None</td>\n",
       "      <td>None</td>\n",
       "      <td>https://farm66.staticflickr.com/65535/48694319...</td>\n",
       "    </tr>\n",
       "    <tr>\n",
       "      <th>1498</th>\n",
       "      <td>1498</td>\n",
       "      <td>1824</td>\n",
       "      <td>4000</td>\n",
       "      <td>batch_9/000098.jpg</td>\n",
       "      <td>CC</td>\n",
       "      <td>https://farm66.staticflickr.com/65535/48693804...</td>\n",
       "      <td>None</td>\n",
       "      <td>None</td>\n",
       "      <td>https://farm66.staticflickr.com/65535/48693804...</td>\n",
       "    </tr>\n",
       "    <tr>\n",
       "      <th>1499</th>\n",
       "      <td>1499</td>\n",
       "      <td>1824</td>\n",
       "      <td>4000</td>\n",
       "      <td>batch_9/000099.jpg</td>\n",
       "      <td>CC</td>\n",
       "      <td>https://farm66.staticflickr.com/65535/48701147...</td>\n",
       "      <td>None</td>\n",
       "      <td>None</td>\n",
       "      <td>https://farm66.staticflickr.com/65535/48701147...</td>\n",
       "    </tr>\n",
       "  </tbody>\n",
       "</table>\n",
       "<p>1500 rows × 9 columns</p>\n",
       "</div>"
      ],
      "text/plain": [
       "        id  width  height           file_name license  \\\n",
       "0        0   1537    2049  batch_1/000006.jpg    None   \n",
       "1        1   1537    2049  batch_1/000008.jpg    None   \n",
       "2        2   1537    2049  batch_1/000010.jpg    None   \n",
       "3        3   2049    1537  batch_1/000019.jpg    None   \n",
       "4        4   1537    2049  batch_1/000026.jpg    None   \n",
       "...    ...    ...     ...                 ...     ...   \n",
       "1495  1495   1824    4000  batch_9/000095.jpg      CC   \n",
       "1496  1496   1824    4000  batch_9/000096.jpg      CC   \n",
       "1497  1497   4000    1824  batch_9/000097.jpg      CC   \n",
       "1498  1498   1824    4000  batch_9/000098.jpg      CC   \n",
       "1499  1499   1824    4000  batch_9/000099.jpg      CC   \n",
       "\n",
       "                                             flickr_url coco_url  \\\n",
       "0     https://farm66.staticflickr.com/65535/33978196...     None   \n",
       "1     https://farm66.staticflickr.com/65535/47803331...     None   \n",
       "2     https://farm66.staticflickr.com/65535/40888872...     None   \n",
       "3     https://farm66.staticflickr.com/65535/47803331...     None   \n",
       "4     https://farm66.staticflickr.com/65535/33978199...     None   \n",
       "...                                                 ...      ...   \n",
       "1495  https://farm66.staticflickr.com/65535/48701319...     None   \n",
       "1496  https://farm66.staticflickr.com/65535/48701319...     None   \n",
       "1497  https://farm66.staticflickr.com/65535/48694319...     None   \n",
       "1498  https://farm66.staticflickr.com/65535/48693804...     None   \n",
       "1499  https://farm66.staticflickr.com/65535/48701147...     None   \n",
       "\n",
       "     date_captured                                     flickr_640_url  \n",
       "0             None  https://farm66.staticflickr.com/65535/33978196...  \n",
       "1             None  https://farm66.staticflickr.com/65535/47803331...  \n",
       "2             None  https://farm66.staticflickr.com/65535/40888872...  \n",
       "3             None  https://farm66.staticflickr.com/65535/47803331...  \n",
       "4             None  https://farm66.staticflickr.com/65535/33978199...  \n",
       "...            ...                                                ...  \n",
       "1495          None  https://farm66.staticflickr.com/65535/48701319...  \n",
       "1496          None  https://farm66.staticflickr.com/65535/48701319...  \n",
       "1497          None  https://farm66.staticflickr.com/65535/48694319...  \n",
       "1498          None  https://farm66.staticflickr.com/65535/48693804...  \n",
       "1499          None  https://farm66.staticflickr.com/65535/48701147...  \n",
       "\n",
       "[1500 rows x 9 columns]"
      ]
     },
     "execution_count": 38,
     "metadata": {},
     "output_type": "execute_result"
    }
   ],
   "source": [
    "images"
   ]
  },
  {
   "cell_type": "code",
   "execution_count": 46,
   "metadata": {},
   "outputs": [],
   "source": [
    "annotations_ = pd.merge(annotations_,images[['id','width','height']],left_on='image_id',right_on='id')"
   ]
  },
  {
   "cell_type": "code",
   "execution_count": 50,
   "metadata": {},
   "outputs": [],
   "source": [
    "annotations_ = annotations_[['image_id','height','width','xmin','ymin','w','h']]"
   ]
  },
  {
   "cell_type": "code",
   "execution_count": 51,
   "metadata": {},
   "outputs": [],
   "source": [
    "annotations_.to_csv(\"./train.csv\",index=False)"
   ]
  }
 ],
 "metadata": {
  "kernelspec": {
   "display_name": "Python 3",
   "language": "python",
   "name": "python3"
  },
  "language_info": {
   "codemirror_mode": {
    "name": "ipython",
    "version": 3
   },
   "file_extension": ".py",
   "mimetype": "text/x-python",
   "name": "python",
   "nbconvert_exporter": "python",
   "pygments_lexer": "ipython3",
   "version": "3.6.9"
  }
 },
 "nbformat": 4,
 "nbformat_minor": 4
}
